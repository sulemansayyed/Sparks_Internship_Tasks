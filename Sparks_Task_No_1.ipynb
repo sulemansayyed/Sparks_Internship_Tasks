{
  "nbformat": 4,
  "nbformat_minor": 0,
  "metadata": {
    "colab": {
      "name": "Sparks_Task_No_1.ipynb",
      "provenance": [],
      "collapsed_sections": []
    },
    "kernelspec": {
      "name": "python3",
      "display_name": "Python 3"
    },
    "language_info": {
      "name": "python"
    }
  },
  "cells": [
    {
      "cell_type": "markdown",
      "metadata": {
        "id": "mr9Ep5oV6Kjz"
      },
      "source": [
        "#**Author : Suleman Sayyed** <br>    \n",
        "###**Intern @ GRIP Spark Foundation** <br>\n"
      ]
    },
    {
      "cell_type": "markdown",
      "metadata": {
        "id": "3VUbmrBnl3sj"
      },
      "source": [
        "$\\color{red}{\\text{Task No.1 - Prediction using Supervised Machine Learning  }}$ <br>\n",
        "\n",
        "\n",
        "*   <a href=\"#linearity\">We would be **predicting the marks of student** based on the number of hours the student invests on studying by using **Linear Regression Algorithm**\n",
        "*   We will be using simple linear regression to build our model and to make predictions.This is a **simple linear regression** task as it involves just 2 variables.\n",
        "\n",
        "\n",
        "\n"
      ]
    },
    {
      "cell_type": "markdown",
      "metadata": {
        "id": "ty0PLjcapyQt"
      },
      "source": [
        "Table of Content\n",
        "\n",
        "<a href=\"#linearity\">$\\color{green}{\\text{1. Importing libraries}}$ <br>\n",
        "<a href=\"#linearity\">$\\color{green}{\\text{2. Reading the data from source }}$<br>\n",
        "<a href=\"#linearity\">$\\color{green}{\\text{3. Input data Visualization}}$ <br>\n",
        "<a href=\"#linearity\">$\\color{green}{\\text{4. Data Preprocessing}}$ <br>\n",
        "<a href=\"#linearity\">$\\color{green}{\\text{5. Model Training}}$ <br>\n",
        "<a href=\"#linearity\">$\\color{green}{\\text{6. Plotting the Line of Regression}}$ <br>\n",
        "<a href=\"#linearity\">$\\color{green}{\\text{7. Predictions}}$ <br>\n",
        "<a href=\"#linearity\">$\\color{green}{\\text{8. Actual result v/s Predicted Model result}}$ <br>\n",
        "<a href=\"#linearity\">$\\color{green}{\\text{9. Evaluating the model}}$ <br>\n"
      ]
    },
    {
      "cell_type": "markdown",
      "metadata": {
        "id": "8CbB7joM5WRN"
      },
      "source": [
        "<a href=\"#linearity\">$\\color{orange}{\\text{Technical Stack : Sikit Learn, Numpy, Pandas, Matplotlib }}$<br>"
      ]
    },
    {
      "cell_type": "markdown",
      "metadata": {
        "id": "dt3E7palpUhc"
      },
      "source": [
        "#**Step No. 1** <br>\n",
        "**Importing Neccessary Libraries**"
      ]
    },
    {
      "cell_type": "code",
      "metadata": {
        "id": "d9KW2W6e52nR"
      },
      "source": [
        "import pandas as pd\n",
        "import numpy as np\n",
        "import matplotlib.pyplot as plt\n",
        "import seaborn as sns\n",
        "\n",
        "\n",
        "from sklearn.model_selection import train_test_split\n",
        "from sklearn.linear_model import LinearRegression\n",
        "from sklearn import metrics  \n",
        "%matplotlib inline"
      ],
      "execution_count": 81,
      "outputs": []
    },
    {
      "cell_type": "markdown",
      "metadata": {
        "id": "q7L_SXwpEM8H"
      },
      "source": [
        "#**Step No.2**"
      ]
    },
    {
      "cell_type": "code",
      "metadata": {
        "colab": {
          "base_uri": "https://localhost:8080/",
          "height": 674
        },
        "id": "-uYGum2c61D7",
        "outputId": "e39abd2d-83a4-4234-ac79-d3704a340363"
      },
      "source": [
        "url = \"http://bit.ly/w-data\"\n",
        "df = pd.read_csv(url)\n",
        "print(df)\n",
        "print(\"Data imported successfully\")\n",
        "df.head()"
      ],
      "execution_count": 82,
      "outputs": [
        {
          "output_type": "stream",
          "name": "stdout",
          "text": [
            "    Hours  Scores\n",
            "0     2.5      21\n",
            "1     5.1      47\n",
            "2     3.2      27\n",
            "3     8.5      75\n",
            "4     3.5      30\n",
            "5     1.5      20\n",
            "6     9.2      88\n",
            "7     5.5      60\n",
            "8     8.3      81\n",
            "9     2.7      25\n",
            "10    7.7      85\n",
            "11    5.9      62\n",
            "12    4.5      41\n",
            "13    3.3      42\n",
            "14    1.1      17\n",
            "15    8.9      95\n",
            "16    2.5      30\n",
            "17    1.9      24\n",
            "18    6.1      67\n",
            "19    7.4      69\n",
            "20    2.7      30\n",
            "21    4.8      54\n",
            "22    3.8      35\n",
            "23    6.9      76\n",
            "24    7.8      86\n",
            "Data imported successfully\n"
          ]
        },
        {
          "output_type": "execute_result",
          "data": {
            "text/html": [
              "<div>\n",
              "<style scoped>\n",
              "    .dataframe tbody tr th:only-of-type {\n",
              "        vertical-align: middle;\n",
              "    }\n",
              "\n",
              "    .dataframe tbody tr th {\n",
              "        vertical-align: top;\n",
              "    }\n",
              "\n",
              "    .dataframe thead th {\n",
              "        text-align: right;\n",
              "    }\n",
              "</style>\n",
              "<table border=\"1\" class=\"dataframe\">\n",
              "  <thead>\n",
              "    <tr style=\"text-align: right;\">\n",
              "      <th></th>\n",
              "      <th>Hours</th>\n",
              "      <th>Scores</th>\n",
              "    </tr>\n",
              "  </thead>\n",
              "  <tbody>\n",
              "    <tr>\n",
              "      <th>0</th>\n",
              "      <td>2.5</td>\n",
              "      <td>21</td>\n",
              "    </tr>\n",
              "    <tr>\n",
              "      <th>1</th>\n",
              "      <td>5.1</td>\n",
              "      <td>47</td>\n",
              "    </tr>\n",
              "    <tr>\n",
              "      <th>2</th>\n",
              "      <td>3.2</td>\n",
              "      <td>27</td>\n",
              "    </tr>\n",
              "    <tr>\n",
              "      <th>3</th>\n",
              "      <td>8.5</td>\n",
              "      <td>75</td>\n",
              "    </tr>\n",
              "    <tr>\n",
              "      <th>4</th>\n",
              "      <td>3.5</td>\n",
              "      <td>30</td>\n",
              "    </tr>\n",
              "  </tbody>\n",
              "</table>\n",
              "</div>"
            ],
            "text/plain": [
              "   Hours  Scores\n",
              "0    2.5      21\n",
              "1    5.1      47\n",
              "2    3.2      27\n",
              "3    8.5      75\n",
              "4    3.5      30"
            ]
          },
          "metadata": {},
          "execution_count": 82
        }
      ]
    },
    {
      "cell_type": "markdown",
      "metadata": {
        "id": "D6RVxyRyFh8p"
      },
      "source": [
        "#**Step No.3**"
      ]
    },
    {
      "cell_type": "code",
      "metadata": {
        "colab": {
          "base_uri": "https://localhost:8080/"
        },
        "id": "f7Wu6zOrF3qJ",
        "outputId": "d185f7fc-6d29-4bb1-8355-2e7d91aee67d"
      },
      "source": [
        "print(\"Info of the data\")\n",
        "print(df.describe())\n",
        "print(\"shape of the data -\",df.shape)\n"
      ],
      "execution_count": 83,
      "outputs": [
        {
          "output_type": "stream",
          "name": "stdout",
          "text": [
            "Info of the data\n",
            "           Hours     Scores\n",
            "count  25.000000  25.000000\n",
            "mean    5.012000  51.480000\n",
            "std     2.525094  25.286887\n",
            "min     1.100000  17.000000\n",
            "25%     2.700000  30.000000\n",
            "50%     4.800000  47.000000\n",
            "75%     7.400000  75.000000\n",
            "max     9.200000  95.000000\n",
            "shape of the data - (25, 2)\n"
          ]
        }
      ]
    },
    {
      "cell_type": "markdown",
      "metadata": {
        "id": "OS8JmHX4QXTD"
      },
      "source": [
        "###**Correlation between Hours and Scores**"
      ]
    },
    {
      "cell_type": "code",
      "metadata": {
        "colab": {
          "base_uri": "https://localhost:8080/",
          "height": 112
        },
        "id": "lVU6wJlYQd5Y",
        "outputId": "03ea62ae-41a7-417b-c958-29710f557b9a"
      },
      "source": [
        "corr=df.corr()\n",
        "corr"
      ],
      "execution_count": 84,
      "outputs": [
        {
          "output_type": "execute_result",
          "data": {
            "text/html": [
              "<div>\n",
              "<style scoped>\n",
              "    .dataframe tbody tr th:only-of-type {\n",
              "        vertical-align: middle;\n",
              "    }\n",
              "\n",
              "    .dataframe tbody tr th {\n",
              "        vertical-align: top;\n",
              "    }\n",
              "\n",
              "    .dataframe thead th {\n",
              "        text-align: right;\n",
              "    }\n",
              "</style>\n",
              "<table border=\"1\" class=\"dataframe\">\n",
              "  <thead>\n",
              "    <tr style=\"text-align: right;\">\n",
              "      <th></th>\n",
              "      <th>Hours</th>\n",
              "      <th>Scores</th>\n",
              "    </tr>\n",
              "  </thead>\n",
              "  <tbody>\n",
              "    <tr>\n",
              "      <th>Hours</th>\n",
              "      <td>1.000000</td>\n",
              "      <td>0.976191</td>\n",
              "    </tr>\n",
              "    <tr>\n",
              "      <th>Scores</th>\n",
              "      <td>0.976191</td>\n",
              "      <td>1.000000</td>\n",
              "    </tr>\n",
              "  </tbody>\n",
              "</table>\n",
              "</div>"
            ],
            "text/plain": [
              "           Hours    Scores\n",
              "Hours   1.000000  0.976191\n",
              "Scores  0.976191  1.000000"
            ]
          },
          "metadata": {},
          "execution_count": 84
        }
      ]
    },
    {
      "cell_type": "code",
      "metadata": {
        "colab": {
          "base_uri": "https://localhost:8080/",
          "height": 217
        },
        "id": "58AgM7hoRGTr",
        "outputId": "f5257190-ebfb-4633-963b-9a4b955a5107"
      },
      "source": [
        "fig, ax = plt.subplots(figsize=(7,3))\n",
        "sns.set(font_scale=1)\n",
        "ax = sns.heatmap(corr, cmap = 'Reds',annot = True, linewidths=0.5, linecolor='black')\n",
        "plt.show()"
      ],
      "execution_count": 85,
      "outputs": [
        {
          "output_type": "display_data",
          "data": {
            "image/png": "[encoded data removed]",
            "text/plain": [
              "<Figure size 504x216 with 2 Axes>"
            ]
          },
          "metadata": {
            "needs_background": "light"
          }
        }
      ]
    },
    {
      "cell_type": "code",
      "metadata": {
        "colab": {
          "base_uri": "https://localhost:8080/",
          "height": 230
        },
        "id": "_VrnaQuqRmvj",
        "outputId": "4c2101b7-d245-456c-e512-0a361a4c0575"
      },
      "source": [
        "fig,ax= plt.subplots(figsize=(7,3))\n",
        "sns.set(font_scale=1)\n",
        "ax = sns.histplot(df['Hours'],bins=10,color=['red'])\n",
        "ax.set_xlabel('Hours')\n",
        "ax.set_ylabel('No of People')\n",
        "plt.show()"
      ],
      "execution_count": 86,
      "outputs": [
        {
          "output_type": "display_data",
          "data": {
            "image/png": "[encoded data removed]",
            "text/plain": [
              "<Figure size 504x216 with 1 Axes>"
            ]
          },
          "metadata": {}
        }
      ]
    },
    {
      "cell_type": "code",
      "metadata": {
        "colab": {
          "base_uri": "https://localhost:8080/",
          "height": 230
        },
        "id": "T4gaJuBKSg1Z",
        "outputId": "bb429572-910f-4971-d752-a61b6a40061f"
      },
      "source": [
        "fig,ax= plt.subplots(figsize=(7,3))\n",
        "sns.set(font_scale=1)\n",
        "ax = sns.histplot(df['Scores'],bins=10,color=['Green'])\n",
        "ax.set_xlabel('Scorces')\n",
        "ax.set_ylabel('No of People')\n",
        "plt.show()"
      ],
      "execution_count": 87,
      "outputs": [
        {
          "output_type": "display_data",
          "data": {
            "image/png": "[encoded data removed]",
            "text/plain": [
              "<Figure size 504x216 with 1 Axes>"
            ]
          },
          "metadata": {}
        }
      ]
    },
    {
      "cell_type": "code",
      "metadata": {
        "colab": {
          "base_uri": "https://localhost:8080/",
          "height": 301
        },
        "id": "EuWNZ0oYESv0",
        "outputId": "b2de4802-1d16-4e99-b411-aaaa9e81e326"
      },
      "source": [
        "# Plotting the distribution of scores\n",
        "\n",
        "df.plot(x='Hours', y='Scores', style='o')  \n",
        "plt.title('Hours vs Percentage')  \n",
        "plt.xlabel('Hours Studied')  \n",
        "plt.ylabel('Percentage Score')  \n",
        "plt.show()"
      ],
      "execution_count": 88,
      "outputs": [
        {
          "output_type": "display_data",
          "data": {
            "image/png": "[encoded data removed]",
            "text/plain": [
              "<Figure size 432x288 with 1 Axes>"
            ]
          },
          "metadata": {}
        }
      ]
    },
    {
      "cell_type": "markdown",
      "metadata": {
        "id": "cyV1F-avE7Kz"
      },
      "source": [
        "**From above graph we can see that it shows positive linear relation betwn 2 parameters(hours & score)**"
      ]
    },
    {
      "cell_type": "markdown",
      "metadata": {
        "id": "4LTRZ-sKFoue"
      },
      "source": [
        "#**Step No. 4**\n",
        "<br>**division of data into \"attributes\" (inputs) and \"labels\" (outputs).**"
      ]
    },
    {
      "cell_type": "code",
      "metadata": {
        "id": "M6QZ7w63E1w9"
      },
      "source": [
        "X = df.iloc[:, :-1].values  \n",
        "y = df.iloc[:, 1].values"
      ],
      "execution_count": 89,
      "outputs": []
    },
    {
      "cell_type": "markdown",
      "metadata": {
        "id": "2MFN0CsxHjOv"
      },
      "source": [
        "#**Step No. 5**\n",
        "<br>**Splitting the data into training and testing sets**"
      ]
    },
    {
      "cell_type": "code",
      "metadata": {
        "id": "ApJIcJw4HNow"
      },
      "source": [
        "X_train, X_test, y_train, y_test = train_test_split(X, y, test_size=0.2, random_state = 0)"
      ],
      "execution_count": 90,
      "outputs": []
    },
    {
      "cell_type": "code",
      "metadata": {
        "colab": {
          "base_uri": "https://localhost:8080/"
        },
        "id": "FZy51yEOIDBd",
        "outputId": "0f586a2e-3d0c-48d8-9990-f0d9393cdcbb"
      },
      "source": [
        "from sklearn.linear_model import LinearRegression  \n",
        "model = LinearRegression()  \n",
        "model.fit(X_train, y_train)\n",
        "\n",
        "print(\"model training successfull\")\n"
      ],
      "execution_count": 91,
      "outputs": [
        {
          "output_type": "stream",
          "name": "stdout",
          "text": [
            "model training successfull\n"
          ]
        }
      ]
    },
    {
      "cell_type": "code",
      "metadata": {
        "colab": {
          "base_uri": "https://localhost:8080/"
        },
        "id": "TQ9LJx6QJ9-z",
        "outputId": "4dd3b6bc-67ab-4fb9-ccef-d65641840f5b"
      },
      "source": [
        "accuracy = model.score(X_test, y_test)\n",
        "print(\"Training Accuracy = \", accuracy)"
      ],
      "execution_count": 92,
      "outputs": [
        {
          "output_type": "stream",
          "name": "stdout",
          "text": [
            "Training Accuracy =  0.9454906892105354\n"
          ]
        }
      ]
    },
    {
      "cell_type": "markdown",
      "metadata": {
        "id": "wHv3L0g_IyDK"
      },
      "source": [
        "#**Step No. 6**\n",
        "<br>**Best fit line of regression**"
      ]
    },
    {
      "cell_type": "code",
      "metadata": {
        "colab": {
          "base_uri": "https://localhost:8080/",
          "height": 306
        },
        "id": "mc7Fm5FWIOTB",
        "outputId": "2d0849e9-2878-4b4e-c8f0-c4955be5abf7"
      },
      "source": [
        "line = model.coef_*X+model.intercept_\n",
        "\n",
        "# Plotting for the test data\n",
        "plt.scatter(X, y)\n",
        "plt.title('Regression Plot',size = 20)\n",
        "plt.ylabel('Percentage Score', size = 12)\n",
        "plt.xlabel('Hours Studied', size = 12)\n",
        "plt.plot(X, line,color='red');\n",
        "plt.show()"
      ],
      "execution_count": 93,
      "outputs": [
        {
          "output_type": "display_data",
          "data": {
            "image/png": "[encoded data removed]",
            "text/plain": [
              "<Figure size 432x288 with 1 Axes>"
            ]
          },
          "metadata": {}
        }
      ]
    },
    {
      "cell_type": "markdown",
      "metadata": {
        "id": "SeNznMatJew4"
      },
      "source": [
        "#**Steps No. 7**\n",
        "**Prediction**"
      ]
    },
    {
      "cell_type": "code",
      "metadata": {
        "colab": {
          "base_uri": "https://localhost:8080/"
        },
        "id": "1Y-BgfRxI_-o",
        "outputId": "f5835aa9-8a19-4e38-8088-c1ea476ae8f4"
      },
      "source": [
        "print(\"test data\",X_test) \n",
        "y_pred = model.predict(X_test)\n",
        "\n"
      ],
      "execution_count": 94,
      "outputs": [
        {
          "output_type": "stream",
          "name": "stdout",
          "text": [
            "test data [[1.5]\n",
            " [3.2]\n",
            " [7.4]\n",
            " [2.5]\n",
            " [5.9]]\n"
          ]
        }
      ]
    },
    {
      "cell_type": "markdown",
      "metadata": {
        "id": "BpxWkf7NLN39"
      },
      "source": [
        "#**Step No. 8**"
      ]
    },
    {
      "cell_type": "code",
      "metadata": {
        "colab": {
          "base_uri": "https://localhost:8080/",
          "height": 206
        },
        "id": "6xn2-JYJKpr8",
        "outputId": "11ae59df-2fab-431b-f2f5-a53eeb67856f"
      },
      "source": [
        "df = pd.DataFrame({'Actual': y_test, 'Predicted': y_pred}) \n",
        "df"
      ],
      "execution_count": 95,
      "outputs": [
        {
          "output_type": "execute_result",
          "data": {
            "text/html": [
              "<div>\n",
              "<style scoped>\n",
              "    .dataframe tbody tr th:only-of-type {\n",
              "        vertical-align: middle;\n",
              "    }\n",
              "\n",
              "    .dataframe tbody tr th {\n",
              "        vertical-align: top;\n",
              "    }\n",
              "\n",
              "    .dataframe thead th {\n",
              "        text-align: right;\n",
              "    }\n",
              "</style>\n",
              "<table border=\"1\" class=\"dataframe\">\n",
              "  <thead>\n",
              "    <tr style=\"text-align: right;\">\n",
              "      <th></th>\n",
              "      <th>Actual</th>\n",
              "      <th>Predicted</th>\n",
              "    </tr>\n",
              "  </thead>\n",
              "  <tbody>\n",
              "    <tr>\n",
              "      <th>0</th>\n",
              "      <td>20</td>\n",
              "      <td>16.884145</td>\n",
              "    </tr>\n",
              "    <tr>\n",
              "      <th>1</th>\n",
              "      <td>27</td>\n",
              "      <td>33.732261</td>\n",
              "    </tr>\n",
              "    <tr>\n",
              "      <th>2</th>\n",
              "      <td>69</td>\n",
              "      <td>75.357018</td>\n",
              "    </tr>\n",
              "    <tr>\n",
              "      <th>3</th>\n",
              "      <td>30</td>\n",
              "      <td>26.794801</td>\n",
              "    </tr>\n",
              "    <tr>\n",
              "      <th>4</th>\n",
              "      <td>62</td>\n",
              "      <td>60.491033</td>\n",
              "    </tr>\n",
              "  </tbody>\n",
              "</table>\n",
              "</div>"
            ],
            "text/plain": [
              "   Actual  Predicted\n",
              "0      20  16.884145\n",
              "1      27  33.732261\n",
              "2      69  75.357018\n",
              "3      30  26.794801\n",
              "4      62  60.491033"
            ]
          },
          "metadata": {},
          "execution_count": 95
        }
      ]
    },
    {
      "cell_type": "code",
      "metadata": {
        "colab": {
          "base_uri": "https://localhost:8080/"
        },
        "id": "k50pseicLWtU",
        "outputId": "fe87eb48-a750-4017-efad-a5802a9b8803"
      },
      "source": [
        "print(\"Test Score =\",model.score(X_test,y_test))"
      ],
      "execution_count": 96,
      "outputs": [
        {
          "output_type": "stream",
          "name": "stdout",
          "text": [
            "Test Score = 0.9454906892105354\n"
          ]
        }
      ]
    },
    {
      "cell_type": "markdown",
      "metadata": {
        "id": "ipK1vLrPMTyw"
      },
      "source": [
        "**Graphical View of actual v/s predicted**"
      ]
    },
    {
      "cell_type": "code",
      "metadata": {
        "colab": {
          "base_uri": "https://localhost:8080/",
          "height": 319
        },
        "id": "v0T-TO3AL3T4",
        "outputId": "681d63dc-fc35-436b-dd9a-e5b9985b503d"
      },
      "source": [
        "df.plot(kind='bar',figsize=(5,5))\n",
        "plt.grid(which='major', linewidth='0.5', color='red')\n",
        "plt.grid(which='minor', linewidth='0.5', color='blue')\n",
        "plt.show()"
      ],
      "execution_count": 97,
      "outputs": [
        {
          "output_type": "display_data",
          "data": {
            "image/png": "[encoded data removed]",
            "text/plain": [
              "<Figure size 360x360 with 1 Axes>"
            ]
          },
          "metadata": {}
        }
      ]
    },
    {
      "cell_type": "markdown",
      "metadata": {
        "id": "ORRI828qM4Te"
      },
      "source": [
        "**Now testing model with our own data**"
      ]
    },
    {
      "cell_type": "code",
      "metadata": {
        "colab": {
          "base_uri": "https://localhost:8080/"
        },
        "id": "jKyRZ24tMPGr",
        "outputId": "76962236-88c7-4730-b622-160bbb7039ce"
      },
      "source": [
        "hours = 9.25\n",
        "test = np.array([hours])\n",
        "test = test.reshape(-1, 1)\n",
        "own = model.predict(test)\n",
        "print(\"No of Hours = {}\".format(hours))\n",
        "print(\"Predicted Score = {}\".format(own[0]))"
      ],
      "execution_count": 98,
      "outputs": [
        {
          "output_type": "stream",
          "name": "stdout",
          "text": [
            "No of Hours = 9.25\n",
            "Predicted Score = 93.69173248737539\n"
          ]
        }
      ]
    },
    {
      "cell_type": "markdown",
      "metadata": {
        "id": "gXOsmAtmNQwM"
      },
      "source": [
        "so here for 9.25 hrs study, student can score 93.69 according to our model."
      ]
    },
    {
      "cell_type": "markdown",
      "metadata": {
        "id": "v4eT586uNsOl"
      },
      "source": [
        "#**Step No. 9**"
      ]
    },
    {
      "cell_type": "code",
      "metadata": {
        "colab": {
          "base_uri": "https://localhost:8080/"
        },
        "id": "CiVLFCoxNKIp",
        "outputId": "94445ca9-212c-4089-f5b2-e9b1a3128132"
      },
      "source": [
        "print('Mean Absolute Error:',metrics.mean_absolute_error(y_test, y_pred)) \n",
        "print('Mean Squared Error:', metrics.mean_squared_error(y_test, y_pred))\n",
        "print('Root Mean Squared Error:', np.sqrt(metrics.mean_squared_error(y_test, y_pred)))\n",
        "print('R-2:', metrics.r2_score(y_test, y_pred))"
      ],
      "execution_count": 99,
      "outputs": [
        {
          "output_type": "stream",
          "name": "stdout",
          "text": [
            "Mean Absolute Error: 4.183859899002982\n",
            "Mean Squared Error: 21.598769307217456\n",
            "Root Mean Squared Error: 4.647447612100373\n",
            "R-2: 0.9454906892105354\n"
          ]
        }
      ]
    },
    {
      "cell_type": "markdown",
      "metadata": {
        "id": "1C3THVdFOCFG"
      },
      "source": [
        "**R-2 gives the score of model fit and in this case we have R-2 = 0.9454906892105355 which is actually a great score for this model.**"
      ]
    },
    {
      "cell_type": "markdown",
      "metadata": {
        "id": "ePAQdDk8ORwi"
      },
      "source": [
        "#**Conclusion :**\n",
        "<br>\n",
        "\n",
        "**Here I successfully completed Prediction using Supervised ML task and was able to evaluate the model's performance.**"
      ]
    },
    {
      "cell_type": "markdown",
      "metadata": {
        "id": "hZUNO2GSO3vc"
      },
      "source": [
        "<br>\n",
        "\n",
        "\n",
        "<a href=\"#linearity\">$\\color{orange}{\\text{Thanks for watching 😊 }}$<br>"
      ]
    }
  ]
}